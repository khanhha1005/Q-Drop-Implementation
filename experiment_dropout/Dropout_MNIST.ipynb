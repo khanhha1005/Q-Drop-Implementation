{
 "cells": [
  {
   "cell_type": "markdown",
   "metadata": {
    "id": "Bc3GWn_jojsG"
   },
   "source": [
    "# MNIST notebook"
   ]
  },
  {
   "cell_type": "markdown",
   "metadata": {
    "id": "uXpH5753pfZU"
   },
   "source": [
    "## import libraries"
   ]
  },
  {
   "cell_type": "code",
   "execution_count": 38,
   "metadata": {
    "id": "DG-wTTncnnjX"
   },
   "outputs": [],
   "source": [
    "import os\n",
    "# Set TensorFlow logging to only show errors\n",
    "os.environ['TF_CPP_MIN_LOG_LEVEL'] = '2'  # This silences INFO and WARNING messages\n",
    "import warnings\n",
    "warnings.filterwarnings('ignore')\n",
    "\n",
    "import numpy as np\n",
    "import matplotlib.pyplot as plt\n",
    "from sklearn.metrics import roc_auc_score\n",
    "\n",
    "import tensorflow as tf\n",
    "from tensorflow.keras import Model\n",
    "from tensorflow.keras.datasets import mnist\n",
    "from tensorflow.keras.utils import to_categorical\n",
    "from tensorflow.keras.layers import Add, Dense, Dropout, Embedding, GlobalAveragePooling1D, Input, Layer, LayerNormalization, MultiHeadAttention\n",
    "from tensorflow.keras.optimizers import Adam\n",
    "from tensorflow.keras.losses import CategoricalCrossentropy\n",
    "from tensorflow.keras.metrics import CategoricalAccuracy\n",
    "\n",
    "try:\n",
    "  import pennylane as qml\n",
    "except:\n",
    "  !pip install pennylane\n",
    "  import pennylane as qml\n",
    "from pennylane.operation import Operation"
   ]
  },
  {
   "cell_type": "markdown",
   "metadata": {
    "id": "2oa2gttKppTU"
   },
   "source": [
    "## Import the dataset"
   ]
  },
  {
   "cell_type": "code",
   "execution_count": 39,
   "metadata": {
    "id": "t9VleEId-FW2"
   },
   "outputs": [],
   "source": [
    "from tqdm import tqdm\n",
    "import numpy as np\n",
    "import torch\n",
    "import torch.nn as nn\n",
    "import torch.optim as optim\n",
    "import torch.utils.data as data\n",
    "import torchvision.transforms as transforms\n",
    "\n",
    "import medmnist\n",
    "from medmnist import INFO, Evaluator\n",
    "import numpy as np\n",
    "import random\n",
    "\n",
    "# Set the random seeds for reproducibility\n",
    "random_seed = 400  # You can choose any seed number\n",
    "\n",
    "# Set the random seed for Python's built-in random module\n",
    "random.seed(random_seed)\n",
    "\n",
    "# Set the random seed for NumPy\n",
    "np.random.seed(random_seed)\n",
    "\n",
    "# Set the random seed for TensorFlow\n",
    "tf.random.set_seed(random_seed)\n"
   ]
  },
  {
   "cell_type": "code",
   "execution_count": 40,
   "metadata": {
    "colab": {
     "base_uri": "https://localhost:8080/"
    },
    "id": "oP2uhOQFpn56",
    "outputId": "56120ee8-db0f-49c7-969b-fea338373b3c"
   },
   "outputs": [
    {
     "name": "stdout",
     "output_type": "stream",
     "text": [
      "Training set shape: (500, 28, 28)\n",
      "Validation set shape: (300, 28, 28)\n",
      "Test set shape: (300, 28, 28)\n"
     ]
    }
   ],
   "source": [
    "import tensorflow as tf\n",
    "import numpy as np\n",
    "\n",
    "# Load MNIST dataset\n",
    "(x_train, y_train), (x_test, y_test) = tf.keras.datasets.mnist.load_data()\n",
    "\n",
    "# Filter for only the classes 3 and 6\n",
    "train_filter = np.where((y_train == 6) | (y_train == 3))\n",
    "test_filter = np.where((y_test == 6) | (y_test == 3))\n",
    "\n",
    "x_train, y_train = x_train[train_filter], y_train[train_filter]\n",
    "x_test, y_test = x_test[test_filter], y_test[test_filter]\n",
    "\n",
    "# Use the first 500 images as the training set\n",
    "x_train, y_train = x_train[:500], y_train[:500]\n",
    "# Randomly sample 300 images from the remaining data as the validation set\n",
    "x_val, y_val = x_test[500:800], y_test[500:800]\n",
    "\n",
    "x_test, y_test = x_test[:300], y_test[:300]\n",
    "\n",
    "# Rescale the images\n",
    "x_train = x_train / 255.0\n",
    "x_val = x_val / 255.0\n",
    "x_test = x_test / 255.0\n",
    "\n",
    "print(\"Training set shape:\", x_train.shape)\n",
    "print(\"Validation set shape:\", x_val.shape)\n",
    "print(\"Test set shape:\", x_test.shape)\n"
   ]
  },
  {
   "cell_type": "code",
   "execution_count": 41,
   "metadata": {},
   "outputs": [
    {
     "name": "stdout",
     "output_type": "stream",
     "text": [
      "Shape of train labels: (500, 2)\n",
      "Shape of validation labels: (300, 2)\n",
      "Shape of test labels: (300, 2)\n"
     ]
    }
   ],
   "source": [
    "# Expand the dimensions of the images to (28, 28, 1) to represent the grayscale channel explicitly\n",
    "\n",
    "train_images = np.expand_dims(x_train, -1)\n",
    "validation_images = np.expand_dims(x_val, -1)\n",
    "test_images = np.expand_dims(x_test, -1)\n",
    "\n",
    "def preprocess_images(images):\n",
    "    # Center-crop to 24x24\n",
    "    images_cropped = tf.image.central_crop(images, central_fraction=24/28)\n",
    "    \n",
    "    # Down-sample to 4x4\n",
    "    images_downsampled = tf.image.resize(images_cropped, size=(4, 4), method=tf.image.ResizeMethod.BILINEAR)\n",
    "    \n",
    "    return images_downsampled\n",
    "\n",
    "# Preprocess the train, validation, and test images\n",
    "train_images_processed = preprocess_images(train_images)\n",
    "validation_images_processed = preprocess_images(validation_images)\n",
    "test_images_processed = preprocess_images(test_images)\n",
    "\n",
    "# Map the labels 3 -> 0 and 6 -> 1\n",
    "y_train_binary = np.where(y_train == 3, 0, 1)\n",
    "y_val_binary = np.where(y_val == 3, 0, 1)\n",
    "y_test_binary = np.where(y_test == 3, 0, 1)\n",
    "\n",
    "# Convert the labels to one-hot encoded vectors\n",
    "train_labels = to_categorical(y_train_binary, 2)\n",
    "validation_labels = to_categorical(y_val_binary, 2)\n",
    "test_labels = to_categorical(y_test_binary, 2)\n",
    "\n",
    "print(\"Shape of train labels:\", train_labels.shape)\n",
    "print(\"Shape of validation labels:\", validation_labels.shape)\n",
    "print(\"Shape of test labels:\", test_labels.shape)"
   ]
  },
  {
   "cell_type": "code",
   "execution_count": 42,
   "metadata": {
    "colab": {
     "base_uri": "https://localhost:8080/"
    },
    "id": "nXdj0ZilYdII",
    "outputId": "469ad37f-d244-40ff-b1d2-4d3c86e63bce"
   },
   "outputs": [
    {
     "name": "stdout",
     "output_type": "stream",
     "text": [
      "Unique labels in the training set: [3 6]\n"
     ]
    }
   ],
   "source": [
    "unique_labels = np.unique(y_train)\n",
    "print(f\"Unique labels in the training set: {unique_labels}\")"
   ]
  },
  {
   "cell_type": "code",
   "execution_count": 43,
   "metadata": {
    "id": "DQ4cCjAJqaIZ"
   },
   "outputs": [],
   "source": [
    "def plot_images(images, labels, num_images=25, figsize=(10,10)):\n",
    "    grid_size = 5\n",
    "    plt.figure(figsize=figsize)\n",
    "\n",
    "    for i in range(num_images):\n",
    "        plt.subplot(grid_size, grid_size, i + 1)\n",
    "        plt.xticks([])\n",
    "        plt.yticks([])\n",
    "        plt.grid(False)\n",
    "        plt.imshow(images[i], cmap='gray')\n",
    "        plt.xlabel(f'Label: {labels[i]}')\n",
    "    plt.show()"
   ]
  },
  {
   "cell_type": "code",
   "execution_count": 44,
   "metadata": {
    "colab": {
     "base_uri": "https://localhost:8080/",
     "height": 826
    },
    "id": "AkJCkXhjqjD3",
    "outputId": "9e5a2817-35fc-4709-d33b-43177daa399f"
   },
   "outputs": [
    {
     "data": {
      "image/png": "[encoded data removed]",
      "text/plain": [
       "<Figure size 1000x1000 with 25 Axes>"
      ]
     },
     "metadata": {},
     "output_type": "display_data"
    }
   ],
   "source": [
    "#Plot some of the images with their labels\n",
    "plot_images(x_train, y_train, num_images=25, figsize=(10,10))"
   ]
  },
  {
   "cell_type": "markdown",
   "metadata": {
    "id": "6ryf3e3L6GKj"
   },
   "source": [
    "## Common Quantum functions"
   ]
  },
  {
   "cell_type": "code",
   "execution_count": 45,
   "metadata": {
    "id": "K7mK4jvaa_RS"
   },
   "outputs": [],
   "source": [
    "class RBSGate(Operation):\n",
    "    num_params = 1\n",
    "    num_wires = 2\n",
    "    par_domain = 'R'\n",
    "\n",
    "    def __init__(self, theta, wires):\n",
    "        super().__init__(theta, wires=wires)\n",
    "        self.theta = theta\n",
    "\n",
    "    @staticmethod\n",
    "    def compute_matrix(theta):\n",
    "        cos = tf.cos(theta)\n",
    "        sin = tf.sin(theta)\n",
    "        return tf.convert_to_tensor([\n",
    "            [1, 0, 0, 0],\n",
    "            [0, cos, sin, 0],\n",
    "            [0, -sin, cos, 0],\n",
    "            [0, 0, 0, 1]\n",
    "        ], dtype=tf.float64)\n",
    "\n",
    "    def adjoint(self):\n",
    "        return RBSGate(-self.parameters[0], wires=self.wires)\n",
    "\n",
    "    def label(self, decimals=None, base_label=None, **kwargs):\n",
    "        theta = self.parameters[0]\n",
    "        return f\"RBS({theta:.2f})\"\n",
    "def convert_array(X):\n",
    "    alphas = tf.zeros(X.shape[:-1] + (X.shape[-1]-1,), dtype=X.dtype)\n",
    "    X_normd = tf.linalg.l2_normalize(X, axis=-1)\n",
    "    for i in range(X.shape[-1]-1):\n",
    "        prod_sin_alphas = tf.reduce_prod(tf.sin(alphas[..., :i]), axis=-1)\n",
    "        updated_value = tf.acos(X_normd[..., i] / prod_sin_alphas)\n",
    "        indices = tf.constant([[i]])\n",
    "        updates = tf.reshape(updated_value, [1])\n",
    "        alphas = tf.tensor_scatter_nd_update(alphas, indices, updates)\n",
    "    return alphas\n",
    "def vector_loader(alphas, wires=None, is_x=True, is_conjugate=False):\n",
    "    if wires is None:\n",
    "        wires = list(range(len(alphas) + 1))\n",
    "    if is_x and not is_conjugate:\n",
    "        qml.PauliX(wires=wires[0])\n",
    "    if is_conjugate:\n",
    "        for i in range(len(wires) - 2, -1, -1):\n",
    "            qml.apply(RBSGate(-alphas[i], wires=[wires[i], wires[i+1]]))\n",
    "    else:\n",
    "        for i in range(len(wires) - 1):\n",
    "            qml.apply(RBSGate(alphas[i], wires=[wires[i], wires[i+1]]))\n",
    "    if is_x and is_conjugate:\n",
    "        qml.PauliX(wires=wires[0])\n",
    "def pyramid_circuit(parameters, wires=None):\n",
    "    if wires is None:\n",
    "        length = len(qml.device.wires)\n",
    "    else:\n",
    "        length = len(wires)\n",
    "\n",
    "    k = 0\n",
    "\n",
    "    for i in range(2 * length - 2):\n",
    "        j = length - abs(length - 1 - i)\n",
    "\n",
    "        if i % 2:\n",
    "            for _ in range(j):\n",
    "                if _ % 2 == 0 and k < (parameters.shape[0]):\n",
    "                    qml.apply(RBSGate(parameters[k], wires=([wires[_], wires[_ + 1]])))\n",
    "                    k += 1\n",
    "        else:\n",
    "            for _ in range(j):\n",
    "                if _ % 2 and k < (parameters.shape[0]):\n",
    "                    qml.apply(RBSGate(parameters[k], wires=([wires[_], wires[_ + 1]])))\n",
    "                    k += 1"
   ]
  },
  {
   "cell_type": "markdown",
   "metadata": {
    "id": "caklx0-k6RHm"
   },
   "source": [
    "# OrthNN"
   ]
  },
  {
   "cell_type": "code",
   "execution_count": 46,
   "metadata": {},
   "outputs": [],
   "source": [
    "class HybridModel(tf.keras.Model):\n",
    "    def __init__(self, apply_quantum_dropout=False, keep_prob=0.7):\n",
    "        super(HybridModel, self).__init__()\n",
    "        self.flatten = tf.keras.layers.Flatten()\n",
    "        self.dense = tf.keras.layers.Dense(6, activation='linear', dtype=tf.float64)\n",
    "        self.quantum_weights = self.add_weight(\n",
    "            shape=(15,),\n",
    "            initializer='random_normal',\n",
    "            trainable=True,\n",
    "            dtype=tf.float32\n",
    "        )\n",
    "        self.apply_quantum_dropout = apply_quantum_dropout  # Flag for applying quantum dropout\n",
    "        self.keep_prob = keep_prob  # Probability of keeping a qubit (1 - dropout probability)\n",
    "        self.dev = qml.device('default.qubit.tf', wires=6)\n",
    "\n",
    "        @qml.qnode(self.dev, interface='tf', diff_method='backprop')\n",
    "        def quantum_circuit(inputs, weights, dropout_mask=None):\n",
    "            inputs = tf.cast(inputs, tf.float32)\n",
    "            weights = tf.cast(weights, tf.float32)\n",
    "\n",
    "            # Load the input into the quantum circuit\n",
    "            vector_loader(convert_array(inputs), wires=range(6))\n",
    "            \n",
    "            # Apply dropout mask to qubits (if dropout is enabled)\n",
    "            if dropout_mask is not None:\n",
    "                for i, drop in enumerate(dropout_mask):\n",
    "                    if drop == 1:  # Only apply gate if qubit is not dropped\n",
    "                        pyramid_circuit(weights, wires=[i])  # Ensure wires is a list\n",
    "            else:\n",
    "                pyramid_circuit(weights, wires=range(6))\n",
    "\n",
    "            return [qml.expval(qml.PauliZ(wire)) for wire in range(6)]\n",
    "\n",
    "        self.quantum_circuit = quantum_circuit\n",
    "        self.classical_nn_2 = tf.keras.layers.Dense(2, activation='softmax', dtype=tf.float64)\n",
    "\n",
    "    def apply_quantum_dropout_mask(self):\n",
    "        \"\"\"Generate a dropout mask for qubits.\"\"\"\n",
    "        if self.apply_quantum_dropout:\n",
    "            # Create a binary mask: 1 means keep the qubit, 0 means drop it\n",
    "            dropout_mask = np.random.binomial(1, self.keep_prob, size=6)\n",
    "        else:\n",
    "            dropout_mask = np.ones(6)  # Keep all qubits if dropout is not applied\n",
    "        return dropout_mask\n",
    "\n",
    "    def call(self, inputs):\n",
    "        inputs = tf.cast(inputs, tf.float64)\n",
    "        flattened_inputs = self.flatten(inputs)\n",
    "        classical_output = self.dense(flattened_inputs)\n",
    "\n",
    "        quantum_outputs = tf.map_fn(\n",
    "            lambda x: tf.stack(\n",
    "                self.quantum_circuit(x, self.quantum_weights, self.apply_quantum_dropout_mask())\n",
    "            ),\n",
    "            classical_output,\n",
    "            fn_output_signature=tf.TensorSpec(shape=(6,), dtype=tf.float64)\n",
    "        )\n",
    "\n",
    "        # Handle NaN values in quantum outputs\n",
    "        quantum_outputs = tf.where(tf.math.is_nan(quantum_outputs), tf.zeros_like(quantum_outputs), quantum_outputs)\n",
    "\n",
    "        # Combine and process quantum outputs through additional NN layers\n",
    "        quantum_outputs = tf.reshape(quantum_outputs, [-1, 6])\n",
    "        # nn_output = self.classical_nn_1(quantum_outputs)\n",
    "        nn_output = self.classical_nn_2(quantum_outputs)\n",
    "\n",
    "        return nn_output\n",
    "\n",
    "\n",
    "\n"
   ]
  },
  {
   "cell_type": "code",
   "execution_count": 47,
   "metadata": {},
   "outputs": [
    {
     "name": "stdout",
     "output_type": "stream",
     "text": [
      "Epoch 1/20\n"
     ]
    },
    {
     "name": "stdout",
     "output_type": "stream",
     "text": [
      "WARNING:tensorflow:You are casting an input of type complex128 to an incompatible dtype float64.  This will discard the imaginary part and may not be what you intended.\n",
      "WARNING:tensorflow:You are casting an input of type complex128 to an incompatible dtype float64.  This will discard the imaginary part and may not be what you intended.\n",
      "WARNING:tensorflow:You are casting an input of type complex128 to an incompatible dtype float64.  This will discard the imaginary part and may not be what you intended.\n",
      "WARNING:tensorflow:You are casting an input of type complex128 to an incompatible dtype float64.  This will discard the imaginary part and may not be what you intended.\n",
      "WARNING:tensorflow:You are casting an input of type complex128 to an incompatible dtype float64.  This will discard the imaginary part and may not be what you intended.\n",
      "WARNING:tensorflow:You are casting an input of type complex128 to an incompatible dtype float64.  This will discard the imaginary part and may not be what you intended.\n",
      "WARNING:tensorflow:You are casting an input of type complex128 to an incompatible dtype float64.  This will discard the imaginary part and may not be what you intended.\n",
      "WARNING:tensorflow:You are casting an input of type complex128 to an incompatible dtype float64.  This will discard the imaginary part and may not be what you intended.\n",
      "WARNING:tensorflow:You are casting an input of type complex128 to an incompatible dtype float64.  This will discard the imaginary part and may not be what you intended.\n",
      "WARNING:tensorflow:You are casting an input of type complex128 to an incompatible dtype float64.  This will discard the imaginary part and may not be what you intended.\n",
      "WARNING:tensorflow:You are casting an input of type complex128 to an incompatible dtype float64.  This will discard the imaginary part and may not be what you intended.\n",
      "WARNING:tensorflow:You are casting an input of type complex128 to an incompatible dtype float64.  This will discard the imaginary part and may not be what you intended.\n",
      "WARNING:tensorflow:You are casting an input of type complex128 to an incompatible dtype float64.  This will discard the imaginary part and may not be what you intended.\n",
      "WARNING:tensorflow:You are casting an input of type complex128 to an incompatible dtype float64.  This will discard the imaginary part and may not be what you intended.\n",
      "WARNING:tensorflow:You are casting an input of type complex128 to an incompatible dtype float64.  This will discard the imaginary part and may not be what you intended.\n",
      "WARNING:tensorflow:You are casting an input of type complex128 to an incompatible dtype float64.  This will discard the imaginary part and may not be what you intended.\n",
      "WARNING:tensorflow:You are casting an input of type complex128 to an incompatible dtype float64.  This will discard the imaginary part and may not be what you intended.\n",
      "WARNING:tensorflow:You are casting an input of type complex128 to an incompatible dtype float64.  This will discard the imaginary part and may not be what you intended.\n",
      "WARNING:tensorflow:You are casting an input of type complex128 to an incompatible dtype float64.  This will discard the imaginary part and may not be what you intended.\n",
      "WARNING:tensorflow:You are casting an input of type complex128 to an incompatible dtype float64.  This will discard the imaginary part and may not be what you intended.\n",
      "\u001b[1m16/16\u001b[0m \u001b[32m━━━━━━━━━━━━━━━━━━━━\u001b[0m\u001b[37m\u001b[0m \u001b[1m7s\u001b[0m 108ms/step - accuracy: 0.8145 - loss: 0.4576 - val_accuracy: 0.9633 - val_loss: 0.1065\n",
      "Epoch 2/20\n",
      "\u001b[1m16/16\u001b[0m \u001b[32m━━━━━━━━━━━━━━━━━━━━\u001b[0m\u001b[37m\u001b[0m \u001b[1m1s\u001b[0m 68ms/step - accuracy: 0.9828 - loss: 0.0562 - val_accuracy: 0.9767 - val_loss: 0.0644\n",
      "Epoch 3/20\n",
      "\u001b[1m16/16\u001b[0m \u001b[32m━━━━━━━━━━━━━━━━━━━━\u001b[0m\u001b[37m\u001b[0m \u001b[1m1s\u001b[0m 67ms/step - accuracy: 0.9873 - loss: 0.0433 - val_accuracy: 0.9733 - val_loss: 0.0659\n",
      "Epoch 4/20\n",
      "\u001b[1m16/16\u001b[0m \u001b[32m━━━━━━━━━━━━━━━━━━━━\u001b[0m\u001b[37m\u001b[0m \u001b[1m1s\u001b[0m 65ms/step - accuracy: 0.9937 - loss: 0.0284 - val_accuracy: 0.9800 - val_loss: 0.0624\n",
      "Epoch 5/20\n",
      "\u001b[1m16/16\u001b[0m \u001b[32m━━━━━━━━━━━━━━━━━━━━\u001b[0m\u001b[37m\u001b[0m \u001b[1m1s\u001b[0m 68ms/step - accuracy: 0.9937 - loss: 0.0204 - val_accuracy: 0.9800 - val_loss: 0.0614\n",
      "Epoch 6/20\n",
      "\u001b[1m16/16\u001b[0m \u001b[32m━━━━━━━━━━━━━━━━━━━━\u001b[0m\u001b[37m\u001b[0m \u001b[1m1s\u001b[0m 69ms/step - accuracy: 0.9937 - loss: 0.0155 - val_accuracy: 0.9800 - val_loss: 0.0613\n",
      "Epoch 7/20\n",
      "\u001b[1m16/16\u001b[0m \u001b[32m━━━━━━━━━━━━━━━━━━━━\u001b[0m\u001b[37m\u001b[0m \u001b[1m1s\u001b[0m 69ms/step - accuracy: 0.9937 - loss: 0.0132 - val_accuracy: 0.9800 - val_loss: 0.0611\n",
      "Epoch 8/20\n",
      "\u001b[1m16/16\u001b[0m \u001b[32m━━━━━━━━━━━━━━━━━━━━\u001b[0m\u001b[37m\u001b[0m \u001b[1m1s\u001b[0m 69ms/step - accuracy: 0.9937 - loss: 0.0119 - val_accuracy: 0.9800 - val_loss: 0.0608\n",
      "Epoch 9/20\n",
      "\u001b[1m16/16\u001b[0m \u001b[32m━━━━━━━━━━━━━━━━━━━━\u001b[0m\u001b[37m\u001b[0m \u001b[1m1s\u001b[0m 64ms/step - accuracy: 0.9937 - loss: 0.0107 - val_accuracy: 0.9800 - val_loss: 0.0604\n",
      "Epoch 10/20\n",
      "\u001b[1m16/16\u001b[0m \u001b[32m━━━━━━━━━━━━━━━━━━━━\u001b[0m\u001b[37m\u001b[0m \u001b[1m1s\u001b[0m 65ms/step - accuracy: 0.9937 - loss: 0.0097 - val_accuracy: 0.9800 - val_loss: 0.0601\n",
      "Epoch 11/20\n",
      "\u001b[1m16/16\u001b[0m \u001b[32m━━━━━━━━━━━━━━━━━━━━\u001b[0m\u001b[37m\u001b[0m \u001b[1m1s\u001b[0m 69ms/step - accuracy: 0.9937 - loss: 0.0088 - val_accuracy: 0.9800 - val_loss: 0.0598\n",
      "Epoch 12/20\n",
      "\u001b[1m16/16\u001b[0m \u001b[32m━━━━━━━━━━━━━━━━━━━━\u001b[0m\u001b[37m\u001b[0m \u001b[1m1s\u001b[0m 69ms/step - accuracy: 1.0000 - loss: 0.0079 - val_accuracy: 0.9800 - val_loss: 0.0595\n",
      "Epoch 13/20\n",
      "\u001b[1m16/16\u001b[0m \u001b[32m━━━━━━━━━━━━━━━━━━━━\u001b[0m\u001b[37m\u001b[0m \u001b[1m1s\u001b[0m 68ms/step - accuracy: 1.0000 - loss: 0.0072 - val_accuracy: 0.9800 - val_loss: 0.0592\n",
      "Epoch 14/20\n",
      "\u001b[1m16/16\u001b[0m \u001b[32m━━━━━━━━━━━━━━━━━━━━\u001b[0m\u001b[37m\u001b[0m \u001b[1m1s\u001b[0m 62ms/step - accuracy: 1.0000 - loss: 0.0066 - val_accuracy: 0.9800 - val_loss: 0.0589\n",
      "Epoch 15/20\n",
      "\u001b[1m16/16\u001b[0m \u001b[32m━━━━━━━━━━━━━━━━━━━━\u001b[0m\u001b[37m\u001b[0m \u001b[1m1s\u001b[0m 62ms/step - accuracy: 1.0000 - loss: 0.0061 - val_accuracy: 0.9800 - val_loss: 0.0586\n",
      "Epoch 16/20\n",
      "\u001b[1m16/16\u001b[0m \u001b[32m━━━━━━━━━━━━━━━━━━━━\u001b[0m\u001b[37m\u001b[0m \u001b[1m1s\u001b[0m 68ms/step - accuracy: 1.0000 - loss: 0.0056 - val_accuracy: 0.9833 - val_loss: 0.0583\n",
      "Epoch 17/20\n",
      "\u001b[1m16/16\u001b[0m \u001b[32m━━━━━━━━━━━━━━━━━━━━\u001b[0m\u001b[37m\u001b[0m \u001b[1m1s\u001b[0m 70ms/step - accuracy: 1.0000 - loss: 0.0052 - val_accuracy: 0.9833 - val_loss: 0.0581\n",
      "Epoch 18/20\n",
      "\u001b[1m16/16\u001b[0m \u001b[32m━━━━━━━━━━━━━━━━━━━━\u001b[0m\u001b[37m\u001b[0m \u001b[1m1s\u001b[0m 68ms/step - accuracy: 1.0000 - loss: 0.0048 - val_accuracy: 0.9833 - val_loss: 0.0578\n",
      "Epoch 19/20\n",
      "\u001b[1m16/16\u001b[0m \u001b[32m━━━━━━━━━━━━━━━━━━━━\u001b[0m\u001b[37m\u001b[0m \u001b[1m1s\u001b[0m 64ms/step - accuracy: 1.0000 - loss: 0.0045 - val_accuracy: 0.9833 - val_loss: 0.0575\n",
      "Epoch 20/20\n",
      "\u001b[1m16/16\u001b[0m \u001b[32m━━━━━━━━━━━━━━━━━━━━\u001b[0m\u001b[37m\u001b[0m \u001b[1m1s\u001b[0m 54ms/step - accuracy: 1.0000 - loss: 0.0042 - val_accuracy: 0.9833 - val_loss: 0.0573\n"
     ]
    }
   ],
   "source": [
    "model = HybridModel(apply_quantum_dropout=True)\n",
    "# Define the total number of steps (epochs * steps per epoch)\n",
    "total_steps = 100  # Example value; adjust based on your training setup\n",
    "\n",
    "# Cosine learning rate scheduler from 0.3 to 0.03\n",
    "initial_learning_rate = 0.3\n",
    "final_learning_rate = 0.03\n",
    "\n",
    "# Calculate the alpha (final learning rate ratio) for the cosine scheduler\n",
    "alpha = final_learning_rate / initial_learning_rate\n",
    "\n",
    "# Cosine decay learning rate schedule\n",
    "lr_schedule = tf.keras.optimizers.schedules.CosineDecay(\n",
    "    initial_learning_rate=initial_learning_rate,\n",
    "    decay_steps=total_steps,\n",
    "    alpha=alpha\n",
    ")\n",
    "\n",
    "# Adam optimizer with the cosine scheduler\n",
    "optimizer = tf.keras.optimizers.Adam(learning_rate=lr_schedule)\n",
    "\n",
    "model.compile(optimizer=optimizer, loss='binary_crossentropy', metrics=['accuracy'])\n",
    "\n",
    "# Start training\n",
    "history = model.fit(\n",
    "    train_images, train_labels,\n",
    "    epochs=20,\n",
    "    batch_size=32,\n",
    "    validation_data=(validation_images, validation_labels)\n",
    ")\n"
   ]
  },
  {
   "cell_type": "code",
   "execution_count": 50,
   "metadata": {
    "colab": {
     "base_uri": "https://localhost:8080/"
    },
    "id": "jDTVOZnA6kyN",
    "outputId": "6569895a-4607-4889-9d7b-2933b9339b3d"
   },
   "outputs": [
    {
     "name": "stdout",
     "output_type": "stream",
     "text": [
      "\u001b[1m10/10\u001b[0m \u001b[32m━━━━━━━━━━━━━━━━━━━━\u001b[0m\u001b[37m\u001b[0m \u001b[1m0s\u001b[0m 10ms/step - accuracy: 0.9786 - loss: 0.0747\n",
      "Test Loss: 0.08442899584770203\n",
      "Test Accuracy: 0.9800000190734863\n"
     ]
    }
   ],
   "source": [
    "test_loss, test_accuracy = model.evaluate(test_images, test_labels)\n",
    "print(f\"Test Loss: {test_loss}\")\n",
    "print(f\"Test Accuracy: {test_accuracy}\")\n"
   ]
  },
  {
   "cell_type": "code",
   "execution_count": 26,
   "metadata": {},
   "outputs": [
    {
     "name": "stdout",
     "output_type": "stream",
     "text": [
      "[0 1 1 0 0 0]\n",
      "[1 1 0 1 1 1]\n",
      "[0 1 1 1 0 1]\n",
      "[1 0 1 1 1 1]\n",
      "[0 0 0 0 1 1]\n",
      "[1 0 1 1 0 1]\n",
      "[1 1 1 1 0 0]\n",
      "[0 1 1 1 0 1]\n",
      "[0 1 1 0 0 1]\n",
      "[1 0 1 1 1 0]\n"
     ]
    }
   ],
   "source": [
    "import numpy as np\n",
    "for i in range(10):\n",
    "    dropout_mask = np.random.binomial(1, 0.5, size=6)\n",
    "    print(dropout_mask)"
   ]
  },
  {
   "cell_type": "code",
   "execution_count": null,
   "metadata": {},
   "outputs": [],
   "source": []
  },
  {
   "cell_type": "code",
   "execution_count": null,
   "metadata": {},
   "outputs": [],
   "source": []
  }
 ],
 "metadata": {
  "colab": {
   "collapsed_sections": [
    "uXpH5753pfZU"
   ],
   "provenance": []
  },
  "kernelspec": {
   "display_name": "Pennylane",
   "language": "python",
   "name": "python3"
  },
  "language_info": {
   "codemirror_mode": {
    "name": "ipython",
    "version": 3
   },
   "file_extension": ".py",
   "mimetype": "text/x-python",
   "name": "python",
   "nbconvert_exporter": "python",
   "pygments_lexer": "ipython3",
   "version": "3.11.10"
  }
 },
 "nbformat": 4,
 "nbformat_minor": 4
}
