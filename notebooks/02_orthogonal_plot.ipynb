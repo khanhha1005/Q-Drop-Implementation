{
 "cells": [
  {
   "cell_type": "markdown",
   "metadata": {},
   "source": [
    "## Import dependencies"
   ]
  },
  {
   "cell_type": "code",
   "execution_count": 1,
   "metadata": {},
   "outputs": [],
   "source": [
    "import os\n",
    "import sys \n",
    "sys.path.append(os.path.abspath(os.path.join(os.getcwd(), '..', 'src')))\n",
    "import numpy as np"
   ]
  },
  {
   "cell_type": "code",
   "execution_count": 2,
   "metadata": {},
   "outputs": [],
   "source": [
    "# Import RBS construction\n",
    "from utils.rbs_gate import *"
   ]
  },
  {
   "cell_type": "markdown",
   "metadata": {},
   "source": [
    "### Ploting"
   ]
  },
  {
   "cell_type": "code",
   "execution_count": 6,
   "metadata": {},
   "outputs": [
    {
     "name": "stdout",
     "output_type": "stream",
     "text": [
      "Pyramid Circuit Diagram on 8 wires:\n",
      "\n",
      "0: ─╭RBS(1.23)─╭RBS(1.23)───────────────────────╭RBS(2.54)─╭RBS(2.54)──────────────────────\n",
      "1: ─╰RBS(1.23)─╰RBS(1.23)─╭RBS(0.31)─╭RBS(0.31)─╰RBS(2.54)─╰RBS(2.54)─╭RBS(0.36)─╭RBS(0.36)\n",
      "2: ───────────────────────╰RBS(0.31)─╰RBS(0.31)─╭RBS(3.89)─╭RBS(3.89)─╰RBS(0.36)─╰RBS(0.36)\n",
      "3: ─────────────────────────────────────────────╰RBS(3.89)─╰RBS(3.89)─╭RBS(5.59)─╭RBS(5.59)\n",
      "4: ───────────────────────────────────────────────────────────────────╰RBS(5.59)─╰RBS(5.59)\n",
      "5: ────────────────────────────────────────────────────────────────────────────────────────\n",
      "6: ────────────────────────────────────────────────────────────────────────────────────────\n",
      "7: ────────────────────────────────────────────────────────────────────────────────────────\n",
      "\n",
      "──╭RBS(1.20)─╭RBS(1.20)───────────────────────╭RBS(5.70)─╭RBS(5.70)───────────────────────╭RBS(6.11)\n",
      "──╰RBS(1.20)─╰RBS(1.20)─╭RBS(4.03)─╭RBS(4.03)─╰RBS(5.70)─╰RBS(5.70)─╭RBS(0.06)─╭RBS(0.06)─╰RBS(6.11)\n",
      "──╭RBS(5.02)─╭RBS(5.02)─╰RBS(4.03)─╰RBS(4.03)─╭RBS(0.41)─╭RBS(0.41)─╰RBS(0.06)─╰RBS(0.06)─╭RBS(5.91)\n",
      "──╰RBS(5.02)─╰RBS(5.02)─╭RBS(2.35)─╭RBS(2.35)─╰RBS(0.41)─╰RBS(0.41)─╭RBS(1.51)─╭RBS(1.51)─╰RBS(5.91)\n",
      "──╭RBS(4.12)─╭RBS(4.12)─╰RBS(2.35)─╰RBS(2.35)─╭RBS(3.06)─╭RBS(3.06)─╰RBS(1.51)─╰RBS(1.51)─╭RBS(4.78)\n",
      "──╰RBS(4.12)─╰RBS(4.12)─╭RBS(6.17)─╭RBS(6.17)─╰RBS(3.06)─╰RBS(3.06)─╭RBS(5.67)─╭RBS(5.67)─╰RBS(4.78)\n",
      "────────────────────────╰RBS(6.17)─╰RBS(6.17)─╭RBS(1.02)─╭RBS(1.02)─╰RBS(5.67)─╰RBS(5.67)───────────\n",
      "──────────────────────────────────────────────╰RBS(1.02)─╰RBS(1.02)─────────────────────────────────\n",
      "\n",
      "──╭RBS(6.11)───────────────────────╭RBS(0.10)─╭RBS(0.10)───────────────────────╭RBS(0.69)─╭RBS(0.69)─┤\n",
      "──╰RBS(6.11)─╭RBS(0.24)─╭RBS(0.24)─╰RBS(0.10)─╰RBS(0.10)─╭RBS(4.69)─╭RBS(4.69)─╰RBS(0.69)─╰RBS(0.69)─┤\n",
      "──╭RBS(5.91)─╰RBS(0.24)─╰RBS(0.24)─╭RBS(1.55)─╭RBS(1.55)─╰RBS(4.69)─╰RBS(4.69)───────────────────────┤\n",
      "──╰RBS(5.91)─╭RBS(0.32)─╭RBS(0.32)─╰RBS(1.55)─╰RBS(1.55)─────────────────────────────────────────────┤\n",
      "──╭RBS(4.78)─╰RBS(0.32)─╰RBS(0.32)───────────────────────────────────────────────────────────────────┤\n",
      "──╰RBS(4.78)─────────────────────────────────────────────────────────────────────────────────────────┤\n",
      "─────────────────────────────────────────────────────────────────────────────────────────────────────┤\n",
      "─────────────────────────────────────────────────────────────────────────────────────────────────────┤\n",
      "\n",
      "   State\n",
      "   State\n",
      "   State\n",
      "   State\n",
      "   State\n",
      "   State\n",
      "   State\n",
      "   State\n"
     ]
    }
   ],
   "source": [
    "# Create a PennyLane device with 8 wires\n",
    "dev = qml.device(\"default.qubit\", wires=8)\n",
    "\n",
    "# For an 8-wire pyramid circuit, the number of parameters needed is 28.\n",
    "# (This comes from the nested loops in pyramid_circuit.)\n",
    "num_params = 28\n",
    "\n",
    "# Create a set of sample parameters. Here we use uniform random angles between 0 and 2π.\n",
    "params = tf.random.uniform((num_params,), minval=0, maxval=2 * np.pi, dtype=tf.float64)\n",
    "\n",
    "# Define a QNode that applies the pyramid_circuit.\n",
    "@qml.qnode(dev, interface=\"tf\")\n",
    "def circuit(parameters):\n",
    "    # Specify the wires as a list of 0,1,...,7\n",
    "    pyramid_circuit(parameters, wires=list(range(8)))\n",
    "    # For demonstration purposes, we return the full quantum state.\n",
    "    return qml.state()\n",
    "\n",
    "# Draw the circuit diagram\n",
    "circuit_diagram = qml.draw(circuit)(params)\n",
    "print(\"Pyramid Circuit Diagram on 8 wires:\\n\")\n",
    "print(circuit_diagram)"
   ]
  },
  {
   "cell_type": "code",
   "execution_count": null,
   "metadata": {},
   "outputs": [],
   "source": []
  }
 ],
 "metadata": {
  "kernelspec": {
   "display_name": "Pennylane",
   "language": "python",
   "name": "python3"
  },
  "language_info": {
   "codemirror_mode": {
    "name": "ipython",
    "version": 3
   },
   "file_extension": ".py",
   "mimetype": "text/x-python",
   "name": "python",
   "nbconvert_exporter": "python",
   "pygments_lexer": "ipython3",
   "version": "3.11.10"
  }
 },
 "nbformat": 4,
 "nbformat_minor": 2
}
